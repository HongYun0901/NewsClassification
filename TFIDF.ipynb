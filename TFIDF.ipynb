{
 "cells": [
  {
   "cell_type": "code",
   "execution_count": 27,
   "metadata": {},
   "outputs": [],
   "source": [
    "import pandas as pd\n",
    "from gensim.models import Word2Vec\n",
    "import torch\n",
    "import torch.nn as nn\n",
    "from torch.autograd import Variable\n",
    "from torch.nn import functional as F\n",
    "import numpy as np\n",
    "import torch.optim as optim\n",
    "import math\n",
    "from sklearn.feature_extraction.text import TfidfTransformer\n",
    "import torch.nn.functional as F\n",
    "from sklearn.feature_extraction.text import CountVectorizer\n"
   ]
  },
  {
   "cell_type": "code",
   "execution_count": 28,
   "metadata": {},
   "outputs": [
    {
     "data": {
      "text/plain": [
       "(35546, 3)"
      ]
     },
     "execution_count": 28,
     "metadata": {},
     "output_type": "execute_result"
    }
   ],
   "source": [
    "column_names = ['type','title','text']\n",
    "df = pd.read_csv('./all_after_mapping.tsv',sep='\\t',names=column_names)\n",
    "df.shape"
   ]
  },
  {
   "cell_type": "code",
   "execution_count": 29,
   "metadata": {},
   "outputs": [],
   "source": [
    "tokenlizeword = np.load('tokenlizeword0225_nopunct.npy',allow_pickle=True)\n"
   ]
  },
  {
   "cell_type": "code",
   "execution_count": 30,
   "metadata": {},
   "outputs": [],
   "source": [
    "labels = df['type'].values\n",
    "labels = np.array(labels)"
   ]
  },
  {
   "cell_type": "code",
   "execution_count": 31,
   "metadata": {
    "scrolled": true
   },
   "outputs": [
    {
     "name": "stdout",
     "output_type": "stream",
     "text": [
      "<class 'list'>\n",
      "264.60656613965006\n",
      "<class 'numpy.ndarray'>\n"
     ]
    },
    {
     "data": {
      "text/plain": [
       "(35546,)"
      ]
     },
     "execution_count": 31,
     "metadata": {},
     "output_type": "execute_result"
    }
   ],
   "source": [
    "print(type(tokenlizeword[0]))\n",
    "count = 0\n",
    "for k in range(tokenlizeword.shape[0]):\n",
    "    tokenlizeword[k] = np.array(tokenlizeword[k])\n",
    "    count+=tokenlizeword[k].shape[0]\n",
    "print(count/tokenlizeword.shape[0])\n",
    "print(type(tokenlizeword[0]))\n",
    "li = []\n",
    "for k in range(tokenlizeword.shape[0]):\n",
    "    li.append(' '.join(tokenlizeword[k]))\n",
    "li = np.array(li)\n",
    "li.shape"
   ]
  },
  {
   "cell_type": "code",
   "execution_count": 32,
   "metadata": {},
   "outputs": [
    {
     "name": "stdout",
     "output_type": "stream",
     "text": [
      "['10', '100', '10日', '10月', '11', '11日', '11月', '12', '12月', '13', '14', '15', '15日', '16', '17', '18', '19', '1日', '1月', '20', '2016年', '2017年', '2018年', '2019', '2019年', '2020', '2020年', '21', '22', '23', '23日', '24', '25', '26', '29日', '2日', '2月', '30', '30日', '31日', '35', '3日', '3月', '40', '4月', '50', '500', '5g', '60', '6日', '6月', '7日', '8日', '9月', 'po', '一些', '一切', '一同', '一定', '一度', '一樣', '一直', '一般', '一起', '一路', '上午', '上漲', '下午', '不僅', '不同', '不少', '不斷', '不會', '不滿', '不用', '不能', '不要', '不過', '世界', '並非', '中共', '中午', '中國', '中央', '中心', '中華', '中華民國', '主任', '主動', '主委', '主席', '主管', '主要', '主題', '之前', '之後', '之間', '乘客', '事件', '事實', '事情', '事業', '互動', '亞洲', '交易', '交流', '交通', '交通部', '人口', '人員', '人士', '人數', '人民', '人民幣', '人潮', '人物', '什麼', '今天', '今年', '今日', '今晚', '他們', '代表', '以上', '以下', '以來', '以及', '任何', '企業', '伊朗', '但是', '位於', '作品', '作業', '作為', '你們', '使用', '來到', '來自', '侯友宜', '保持', '保護', '保障', '信心', '個人', '個案', '候選人', '做出', '做好', '停止', '健康', '傳出', '傳播', '傳染', '傳統', '像是', '價值', '價格', '儘管', '先前', '先生', '免費', '兒子', '兒童', '入境', '內容', '全力', '全球', '全面', '兩岸', '公共', '公司', '公告', '公園', '公尺', '公布', '公民', '公路', '公里', '公開', '共同', '共識', '其中', '其他', '其實', '具有', '典禮', '再度', '再次', '冠狀', '冠狀病毒', '冠軍', '凌晨', '出來', '出口', '出席', '出現', '出發', '出賽', '分享', '分別', '分區', '分析', '分鐘', '利用', '到場', '前往', '副總統', '創下', '創新', '力量', '加上', '加入', '加強', '加油', '助攻', '努力', '動物', '勞工', '包含', '包括', '北京', '北市', '北部', '區域', '十分', '協助', '協會', '協議', '南韓', '印度', '即將', '即時', '原因', '原本', '去年', '參加', '參與', '參選', '反對', '反應', '取得', '取消', '受傷', '受到', '口罩', '另外', '只是', '只有', '只要', '召開', '可以', '可能', '台中', '台中市', '台北', '台北市', '台南', '台南市', '台商', '台東', '台灣', '台灣人', '台股', '合作', '合約', '同意', '同時', '同樣', '名單', '吸引', '呈現', '告訴', '呼籲', '品牌', '品質', '員工', '員警', '唯一', '商品', '問題', '啟動', '喜歡', '單位', '嚴重', '回到', '回家', '回應', '因應', '因此', '因為', '因素', '國人', '國內', '國家', '國小', '國會', '國民黨', '國際', '園區', '團結', '團隊', '團體', '土地', '地區', '地方', '地檢署', '地點', '坦言', '城市', '執政', '執行', '基地', '基礎', '基金', '基金會', '基隆', '報告', '報導', '增加', '壓力', '外交部', '外媒', '外界', '大型', '大學', '大家', '大幅', '大聯盟', '大選', '大量', '大陸', '天氣', '女兒', '女子', '女性', '好好', '如今', '如何', '如果', '如此', '妻子', '委員', '委員會', '威脅', '媒體', '媽媽', '孩子', '學校', '學生', '學習', '守護', '安全', '安排', '宋楚瑜', '完全', '完成', '官員', '官方', '宜蘭', '客戶', '宣布', '家人', '家屬', '家庭', '家長', '容易', '實施', '實際', '專家', '專業', '尊重', '對手', '對方', '對於', '導致', '小孩', '小時', '小英', '尚未', '尤其', '就是', '就醫', '居家', '居民', '屏東', '展現', '展開', '川普', '工作', '工廠', '工程', '左右', '已經', '市場', '市府', '市民', '市長', '希望', '帶來', '帶動', '幫助', '幫忙', '平台', '平均', '年輕', '年輕人', '幾乎', '廠商', '延後', '延燒', '建設', '建議', '引發', '引起', '張善政', '強調', '彰化', '影片', '影響', '很多', '律師', '後來', '後續', '得到', '微博', '德國', '必要', '必須', '快速', '怎麼', '恢復', '患者', '情形', '情況', '想要', '意外', '意見', '感到', '感染', '感覺', '感謝', '態度', '應該', '成功', '成員', '成為', '成立', '成績', '成長', '我們', '我國', '或是', '截至', '所以', '所有', '手機', '打造', '批評', '找到', '承諾', '技術', '投入', '投手', '投票', '投資', '抵達', '拍攝', '拒絕', '拜票', '拿下', '持續', '指出', '指控', '指揮', '指數', '挑戰', '捷運', '掃街', '掌握', '排名', '排除', '排隊', '採取', '接受', '接獲', '接著', '接觸', '控制', '推出', '推動', '措施', '提供', '提出', '提到', '提升', '提醒', '提高', '搭乘', '擁有', '操作', '擔任', '擔心', '擴大', '擴散', '支持', '收到', '改善', '改變', '改革', '攻擊', '政府', '政治', '政策', '政見', '政黨', '教授', '教練', '教育', '教育部', '整體', '數據', '數量', '文化', '新加坡', '新北', '新北市', '新台幣', '新型', '新增', '新年', '新竹', '新聞', '新高', '方向', '方式', '方案', '方面', '旅客', '旅遊', '日前', '日本', '早上', '明天', '明年', '明顯', '春節', '昨天', '昨日', '昨晚', '是否', '時代', '時候', '時間', '晚上', '晚間', '智慧', '暫停', '暫時', '更多', '最佳', '最多', '最後', '最終', '最近', '會議', '有效', '有關', '朋友', '服務', '期待', '期間', '未來', '柯文哲', '根據', '根本', '桃園', '案件', '條件', '業務', '業者', '標準', '機場', '機會', '機構', '機車', '機關', '檢方', '檢查', '檢疫', '歐洲', '歡迎', '正在', '正常', '正式', '此外', '武漢', '歷史', '死亡', '比賽', '比較', '民主', '民眾', '民眾黨', '民調', '民進黨', '決定', '汽車', '沒想到', '沒有', '治療', '法國', '法官', '法律', '法院', '注意', '泰國', '活動', '流感', '流行', '消息', '消毒', '消費', '消費者', '涉嫌', '清楚', '減少', '湖人', '準備', '溝通', '滲透', '滲透法', '演出', '演唱會', '澳洲', '為了', '為何', '無法', '照片', '照顧', '燈會', '營收', '營運', '爆發', '爭取', '爭議', '父親', '物資', '特別', '特殊', '狀況', '獲得', '現在', '現場', '球員', '球隊', '環境', '甚至', '生命', '生活', '生涯', '生產', '產品', '產業', '產生', '由於', '申請', '男子', '留言', '畫面', '當地', '當天', '當局', '當年', '當時', '當選', '疑似', '疫情', '疾病', '病例', '病毒', '症狀', '登場', '發出', '發展', '發布', '發放', '發文', '發燒', '發現', '發生', '發表', '發言人', '目前', '目標', '直到', '直升機', '直接', '相信', '相當', '相關', '看到', '真的', '知名', '知道', '研究', '確保', '確定', '確實', '確診', '確認', '社區', '社會', '社群', '禁止', '科技', '程序', '積極', '穩定', '空氣', '空間', '突然', '突破', '立刻', '立即', '立場', '立委', '立法院', '競選', '笑說', '符合', '第1', '第2', '第3', '第4', '第一', '第一手', '第三', '第二', '第四', '管制', '管理', '節目', '範圍', '簽署', '籃板', '粉絲', '精神', '系列', '系統', '紀錄', '紅包', '紛紛', '累計', '終於', '組織', '結合', '結婚', '結束', '結果', '絕對', '給予', '統一', '統計', '經濟', '經營', '經過', '經驗', '綜合', '維持', '維護', '網友', '網站', '網路', '緊張', '緊急', '縣市', '縣府', '縣長', '總統', '總部', '繼續', '罷免', '美元', '美國', '老師', '考量', '而且', '而是', '聯合', '聯盟', '聲明', '股價', '肯定', '肺炎', '能力', '能夠', '臉書', '自己', '自由', '自行', '至今', '至少', '至於', '舉行', '舉辦', '航班', '航空', '花蓮', '英國', '菲律賓', '落實', '董事長', '蔡英文', '藝人', '藝術', '蘇貞昌', '處理', '行動', '行政', '行政院', '行為', '行程', '衛生', '衛生局', '衝擊', '表演', '表現', '表示', '表達', '補助', '製作', '製造', '要求', '規劃', '規定', '親民黨', '覺得', '觀光', '觀察', '觀眾', '角色', '解決', '解釋', '言論', '計畫', '訊息', '討論', '訓練', '記者', '記者會', '訪問', '設備', '設置', '設計', '許多', '評估', '詢問', '認定', '認為', '說明', '調整', '調查', '證實', '證明', '警察', '警方', '議員', '議題', '變成', '負責', '貢獻', '責任', '貼文', '貿易', '資料', '資源', '資訊', '資金', '質疑', '賴清德', '購買', '起訴', '超過', '跨年', '路段', '路線', '身分', '身體', '車輛', '車隊', '辦公室', '辦理', '農曆', '近年', '近日', '近期', '返台', '透過', '透露', '逐漸', '這些', '這樣', '這裡', '這麼', '通報', '通知', '通過', '造勢', '造成', '連任', '連續', '進一步', '進入', '進行', '遊客', '遊行', '運動', '過去', '過年', '過程', '道歉', '道路', '達到', '達成', '違反', '遭到', '選區', '選情', '選戰', '選手', '選擇', '選民', '選票', '選舉', '避免', '邀請', '還是', '還要', '部分', '郭台銘', '鄉親', '配合', '酒精', '醫師', '醫療', '醫護', '醫院', '重大', '重新', '重要', '重點', '金融', '金門', '金額', '針對', '銀行', '銷售', '長期', '開始', '開學', '開心', '開放', '開發', '關係', '關心', '關注', '關鍵', '防疫', '附近', '降低', '限制', '陣營', '除了', '陪同', '陸續', '階段', '隔離', '隨即', '隨後', '隨著', '集團', '雖然', '雙方', '離開', '雲林', '電子', '電影', '電視', '電話', '需求', '需要', '青年', '非常', '面對', '面臨', '韓國', '韓國瑜', '韓粉', '音樂', '順利', '預估', '預期', '預算', '預計', '預防', '領先', '願意', '顯示', '風險', '飛機', '首度', '首次', '香港', '馬英九', '駕駛', '體驗', '高中', '高達', '高雄', '高雄市', '黨主席', '黨部', '鼓勵']\n",
      "[[0 0 0 ... 0 1 0]\n",
      " [0 0 0 ... 0 0 0]\n",
      " [0 1 0 ... 0 0 0]\n",
      " ...\n",
      " [0 0 0 ... 0 0 1]\n",
      " [0 0 0 ... 0 0 0]\n",
      " [0 0 0 ... 0 0 0]]\n",
      "TfidfTransformer(norm='l2', smooth_idf=True, sublinear_tf=False, use_idf=True)\n",
      "(35546, 1024)\n"
     ]
    }
   ],
   "source": [
    "vectorizer = CountVectorizer(max_features=1024)\n",
    "X = vectorizer.fit_transform(li)\n",
    "word = vectorizer.get_feature_names()\n",
    "transformer = TfidfTransformer()\n",
    "tfidf = transformer.fit_transform(X)\n",
    "x = tfidf.toarray()\n",
    "print(x.shape)"
   ]
  },
  {
   "cell_type": "code",
   "execution_count": 33,
   "metadata": {},
   "outputs": [
    {
     "name": "stdout",
     "output_type": "stream",
     "text": [
      "(35546, 1024)\n"
     ]
    }
   ],
   "source": [
    "print(x.shape)\n",
    "dev_x = x[:5000]\n",
    "dev_y = labels[:5000]\n",
    "\n",
    "test_x = x[5000:10000]\n",
    "test_y = labels[5000:10000]\n",
    "\n",
    "train_x = x[10000:]\n",
    "train_y = labels[10000:]"
   ]
  },
  {
   "cell_type": "code",
   "execution_count": 34,
   "metadata": {},
   "outputs": [],
   "source": [
    "from torch.utils.data import Dataset,DataLoader\n",
    "class TFIDFdataset(Dataset):\n",
    "    def __init__(self, x,y):\n",
    "        self.x = x\n",
    "        self.y = y\n",
    "        self.len = x.shape[0]\n",
    "    def __getitem__(self, index):\n",
    "        x = self.x[index]\n",
    "        y = self.y[index]\n",
    "        return x,y\n",
    "    def __len__(self):\n",
    "        return self.len"
   ]
  },
  {
   "cell_type": "code",
   "execution_count": 35,
   "metadata": {},
   "outputs": [],
   "source": [
    "BATCH_SIZE = 32\n",
    "trainset = TFIDFdataset(train_x,train_y)\n",
    "trainloader = DataLoader(trainset,batch_size=BATCH_SIZE,drop_last=True)\n"
   ]
  },
  {
   "cell_type": "code",
   "execution_count": 36,
   "metadata": {},
   "outputs": [],
   "source": [
    "num_classes = 7\n",
    "input_dim  = x.shape[1]\n",
    "class TFIDFmodel(nn.Module):\n",
    "    def __init__(self):\n",
    "        super(TFIDFmodel, self).__init__()\n",
    "        self.fc1 = nn.Linear(input_dim,1024)\n",
    "        self.fc2 = nn.Linear(1024, 512)\n",
    "        self.fc3 = nn.Linear(512, 256)\n",
    "        self.fc4 = nn.Linear(256, num_classes)\n",
    "    def forward(self, x):\n",
    "        x = F.relu(self.fc1(x))\n",
    "        x = F.relu(self.fc2(x))\n",
    "        x = F.relu(self.fc3(x))\n",
    "        x = self.fc4(x)\n",
    "        return x"
   ]
  },
  {
   "cell_type": "code",
   "execution_count": 41,
   "metadata": {},
   "outputs": [
    {
     "name": "stdout",
     "output_type": "stream",
     "text": [
      "device: cuda:0\n",
      "Epoch: 0001 cost = 1.916712\n",
      "Epoch: 0002 cost = 1.783167\n",
      "Epoch: 0003 cost = 1.554767\n",
      "Epoch: 0004 cost = 1.251404\n",
      "Epoch: 0005 cost = 1.028769\n",
      "Epoch: 0006 cost = 0.894432\n",
      "Epoch: 0007 cost = 0.801158\n",
      "Epoch: 0008 cost = 0.729628\n",
      "Epoch: 0009 cost = 0.673833\n",
      "Epoch: 0010 cost = 0.630082\n",
      "Epoch: 0011 cost = 0.595777\n",
      "Epoch: 0012 cost = 0.567887\n",
      "Epoch: 0013 cost = 0.545101\n",
      "Epoch: 0014 cost = 0.525903\n",
      "Epoch: 0015 cost = 0.509389\n",
      "Epoch: 0016 cost = 0.495220\n",
      "Epoch: 0017 cost = 0.482773\n",
      "Epoch: 0018 cost = 0.471768\n",
      "Epoch: 0019 cost = 0.462150\n",
      "Epoch: 0020 cost = 0.453477\n"
     ]
    }
   ],
   "source": [
    "model = TFIDFmodel()\n",
    "\n",
    "device = torch.device(\"cuda:0\" if torch.cuda.is_available() else \"cpu\")\n",
    "# device = torch.device('cpu')\n",
    "print('device:',device)\n",
    "model = model.float()\n",
    "model = model.to(device)\n",
    "model.train()\n",
    "criterion = nn.CrossEntropyLoss()\n",
    "optimizer = optim.Adam(model.parameters(), lr=1e-5)\n",
    "\n",
    "for epoch in range(20):\n",
    "    running_loss = 0\n",
    "    for data in trainloader:\n",
    "        x,y = [t.to(device) for t in data]\n",
    "        x = x.float()\n",
    "        y = y.float()\n",
    "        optimizer.zero_grad()\n",
    "        output = model(x)\n",
    "        y = y.long()\n",
    "        loss = criterion(output, y)\n",
    "        running_loss += loss.item()\n",
    "        loss.backward()\n",
    "        optimizer.step()\n",
    "    print('Epoch:', '%04d' % (epoch + 1), 'cost =', '{:.6f}'.format(loss))\n",
    "    torch.save(model, 'model_TFIDF_1024.pkl')\n",
    "\n"
   ]
  },
  {
   "cell_type": "code",
   "execution_count": 42,
   "metadata": {},
   "outputs": [],
   "source": [
    "testset = TFIDFdataset(test_x,test_y)\n",
    "testloader = DataLoader(testset,batch_size=BATCH_SIZE)\n"
   ]
  },
  {
   "cell_type": "code",
   "execution_count": 43,
   "metadata": {},
   "outputs": [],
   "source": [
    "def get_predictions(model, dataloader, compute_acc=False):\n",
    "    predictions = None\n",
    "    predictions_withoutmax = None\n",
    "    correct = 0\n",
    "    total = 0\n",
    "    with torch.no_grad():\n",
    "        # 遍巡整個資料集\n",
    "        for data in dataloader:\n",
    "            # 將所有 tensors 移到 GPU 上\n",
    "            if next(model.parameters()).is_cuda:\n",
    "                x,y = [t.to(\"cuda:0\") for t in data if t is not None]\n",
    "                x = x.float()\n",
    "                y = y.float()\n",
    "            outputs  = model(x)\n",
    "\n",
    "            after_softmax = F.softmax(outputs, dim=1)\n",
    "            _, pred = torch.max(after_softmax, 1)\n",
    "\n",
    "            # 用來計算訓練集的分類準確率\n",
    "            if compute_acc:\n",
    "                total += y.shape[0]\n",
    "                correct += (pred == y).sum().item()\n",
    "\n",
    "            # 將當前 batch 記錄下來\n",
    "            if predictions is None:\n",
    "                predictions = pred\n",
    "            else:\n",
    "                predictions = torch.cat((predictions, pred))\n",
    "                \n",
    "            if predictions_withoutmax is None:\n",
    "                predictions_withoutmax = after_softmax\n",
    "            else:\n",
    "                predictions_withoutmax = torch.cat((predictions_withoutmax,after_softmax))\n",
    "    \n",
    "    if compute_acc:\n",
    "        acc = correct / total\n",
    "        return predictions , predictions_withoutmax, acc\n",
    "    return predictions_withoutmax\n",
    "    "
   ]
  },
  {
   "cell_type": "code",
   "execution_count": 44,
   "metadata": {},
   "outputs": [
    {
     "name": "stdout",
     "output_type": "stream",
     "text": [
      "0.7754\n"
     ]
    }
   ],
   "source": [
    "pred , pred_probi ,acc = get_predictions(model,testloader,True)\n",
    "print(acc)"
   ]
  },
  {
   "cell_type": "code",
   "execution_count": null,
   "metadata": {},
   "outputs": [],
   "source": []
  }
 ],
 "metadata": {
  "kernelspec": {
   "display_name": "Python 3",
   "language": "python",
   "name": "python3"
  },
  "language_info": {
   "codemirror_mode": {
    "name": "ipython",
    "version": 3
   },
   "file_extension": ".py",
   "mimetype": "text/x-python",
   "name": "python",
   "nbconvert_exporter": "python",
   "pygments_lexer": "ipython3",
   "version": "3.6.9"
  }
 },
 "nbformat": 4,
 "nbformat_minor": 2
}
