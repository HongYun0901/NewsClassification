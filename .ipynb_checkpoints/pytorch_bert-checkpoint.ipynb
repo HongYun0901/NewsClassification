{
 "cells": [
  {
   "cell_type": "code",
   "execution_count": 1,
   "metadata": {},
   "outputs": [],
   "source": [
    "import torch\n",
    "import torch.nn.functional as F\n",
    "import pandas as pd\n",
    "from transformers import BertTokenizer\n",
    "import numpy as np\n",
    "from torch.utils.data import Dataset\n",
    "from torch.utils.data import DataLoader\n",
    "from transformers import BertForSequenceClassification\n"
   ]
  },
  {
   "cell_type": "code",
   "execution_count": 2,
   "metadata": {},
   "outputs": [],
   "source": [
    "column_names = ['type','title','text']\n",
    "dftrain = pd.read_csv('./data_after_sep/train.tsv',sep='\\t',names=column_names)\n",
    "dftest = pd.read_csv('./data_after_sep/test.tsv',sep='\\t',names=column_names)\n",
    "dfdev = pd.read_csv('./data_after_sep/dev.tsv',sep='\\t',names=column_names)"
   ]
  },
  {
   "cell_type": "code",
   "execution_count": 3,
   "metadata": {},
   "outputs": [],
   "source": [
    "pretrain_model_path = './chinese_wwm_pytorch/'\n",
    "tokenizer = BertTokenizer.from_pretrained(pretrain_model_path)"
   ]
  },
  {
   "cell_type": "code",
   "execution_count": 4,
   "metadata": {},
   "outputs": [],
   "source": [
    "class TrainDataset(Dataset):\n",
    "    def __init__(self, input_dict, y ):\n",
    "        self.input_ids = input_dict['input_ids']\n",
    "        self.token_type_ids = input_dict['token_type_ids']\n",
    "        self.attention_mask = input_dict['attention_mask']\n",
    "        self.y = y\n",
    "    def __getitem__(self,idx):\n",
    "        inputid = self.input_ids[idx]\n",
    "        tokentype = self.token_type_ids[idx]\n",
    "        attentionmask = self.attention_mask[idx]\n",
    "        y = self.y[idx]\n",
    "\n",
    "        return inputid , tokentype , attentionmask, y\n",
    "    \n",
    "    def __len__(self):\n",
    "        return len(self.input_ids)\n",
    "    \n",
    "train_texts = dftrain['text'].tolist()\n",
    "    \n",
    "train_input_dict = tokenizer.batch_encode_plus(train_texts, \n",
    "                                         add_special_tokens=True,\n",
    "                                         max_length=512,\n",
    "                                               truncation=True,\n",
    "                                         return_special_tokens_mask=True,\n",
    "                                         pad_to_max_length=True,\n",
    "                                         return_tensors='pt')"
   ]
  },
  {
   "cell_type": "code",
   "execution_count": 5,
   "metadata": {},
   "outputs": [],
   "source": [
    "BATCH_SIZE = 8\n",
    "train_y = np.array(dftrain['type'].tolist())\n",
    "trainset = TrainDataset(train_input_dict,train_y)\n",
    "trainloader = DataLoader(trainset , batch_size = BATCH_SIZE , shuffle = True)\n"
   ]
  },
  {
   "cell_type": "code",
   "execution_count": 6,
   "metadata": {},
   "outputs": [],
   "source": [
    "test_texts = dftest['text'].tolist()\n",
    "test_input_dict = tokenizer.batch_encode_plus(test_texts, \n",
    "                                         add_special_tokens=True,\n",
    "                                         max_length=512,\n",
    "                                               truncation=True,\n",
    "                                         return_special_tokens_mask=True,\n",
    "                                         pad_to_max_length=True,\n",
    "                                         return_tensors='pt')\n",
    "\n",
    "# BATCH_SIZE = 4\n",
    "test_y = np.array(dftest['type'].tolist())\n",
    "testset = TrainDataset(test_input_dict,test_y)\n",
    "testloader = DataLoader(testset , batch_size = BATCH_SIZE , shuffle = True)"
   ]
  },
  {
   "cell_type": "code",
   "execution_count": 7,
   "metadata": {},
   "outputs": [],
   "source": [
    "def get_test_acc(model , testloader):\n",
    "    model.eval()\n",
    "    total = 0\n",
    "    correct = 0\n",
    "    with torch.no_grad():\n",
    "        for data in testloader:\n",
    "            tokens_tensors, segments_tensors, \\\n",
    "            masks_tensors, labels = [t.to(device) for t in data]\n",
    "\n",
    "            # forward pass\n",
    "            outputs = model(input_ids=tokens_tensors, \n",
    "                            token_type_ids=segments_tensors, \n",
    "                            attention_mask=masks_tensors, \n",
    "                            labels=labels)\n",
    "\n",
    "\n",
    "            pred = torch.argmax(outputs[1],dim=-1)\n",
    "            total += labels.size()[0]\n",
    "            correct += (pred == labels).sum().item()\n",
    "\n",
    "    return correct/total\n",
    "    \n",
    "    "
   ]
  },
  {
   "cell_type": "code",
   "execution_count": null,
   "metadata": {
    "scrolled": false
   },
   "outputs": [
    {
     "name": "stdout",
     "output_type": "stream",
     "text": [
      "device: cuda:0\n"
     ]
    },
    {
     "name": "stderr",
     "output_type": "stream",
     "text": [
      "Some weights of the model checkpoint at ./chinese_wwm_pytorch/ were not used when initializing BertForSequenceClassification: ['cls.predictions.bias', 'cls.predictions.transform.dense.weight', 'cls.predictions.transform.dense.bias', 'cls.predictions.transform.LayerNorm.weight', 'cls.predictions.transform.LayerNorm.bias', 'cls.predictions.decoder.weight', 'cls.seq_relationship.weight', 'cls.seq_relationship.bias']\n",
      "- This IS expected if you are initializing BertForSequenceClassification from the checkpoint of a model trained on another task or with another architecture (e.g. initializing a BertForSequenceClassification model from a BertForPretraining model).\n",
      "- This IS NOT expected if you are initializing BertForSequenceClassification from the checkpoint of a model that you expect to be exactly identical (initializing a BertForSequenceClassification model from a BertForSequenceClassification model).\n",
      "Some weights of BertForSequenceClassification were not initialized from the model checkpoint at ./chinese_wwm_pytorch/ and are newly initialized: ['classifier.weight', 'classifier.bias']\n",
      "You should probably TRAIN this model on a down-stream task to be able to use it for predictions and inference.\n"
     ]
    },
    {
     "name": "stdout",
     "output_type": "stream",
     "text": [
      "Epoch [1/3] 3193/3194 Loss: 1056.3622 Acc : 0.899Epoch [1/3] Test acc: 0.8252\n",
      "Epoch [2/3] 3193/3194 Loss: 535.8695 Acc : 0.944Epoch [2/3] Test acc: 0.8438\n",
      "Epoch [3/3] 1348/3194 Loss: 117.8977 Acc : 0.972"
     ]
    }
   ],
   "source": [
    "device = torch.device(\"cuda:0\" if torch.cuda.is_available() else \"cpu\")\n",
    "print(\"device:\", device)\n",
    "num_labels = 7\n",
    "model = BertForSequenceClassification.from_pretrained(pretrain_model_path,num_labels = num_labels)\n",
    "model = model.to(device)\n",
    "model.train()\n",
    "optimizer = torch.optim.Adam(model.parameters(), lr=1e-5)\n",
    "\n",
    "EPOCHS = 3 \n",
    "for epoch in range(EPOCHS):\n",
    "    running_loss = 0.0\n",
    "    i = 0\n",
    "    total = 0\n",
    "    correct = 0\n",
    "    for (i,data) in enumerate(trainloader):\n",
    "        tokens_tensors, segments_tensors, \\\n",
    "        masks_tensors, labels = [t.to(device) for t in data]\n",
    "        \n",
    "        # forward pass\n",
    "        outputs = model(input_ids=tokens_tensors, \n",
    "                        token_type_ids=segments_tensors, \n",
    "                        attention_mask=masks_tensors, \n",
    "                        labels=labels)\n",
    "\n",
    "        optimizer.zero_grad()\n",
    "        \n",
    "        pred = torch.argmax(outputs[1],dim=-1)\n",
    "        total += labels.size()[0]\n",
    "        correct += (pred == labels).sum().item()\n",
    "\n",
    "        loss = outputs[0]\n",
    "        # backward\n",
    "        loss.backward()\n",
    "        optimizer.step()\n",
    "\n",
    "        running_loss += loss.item()\n",
    "        print(f'\\rEpoch [{epoch+1}/{EPOCHS}] {i}/{len(trainloader)} Loss: {running_loss:.4f} Acc : {(correct/total):.3f}', end='')\n",
    "    \n",
    "    test_acc = get_test_acc(model , testloader)\n",
    "    print(f'Epoch [{epoch+1}/{EPOCHS}] Test acc: {test_acc:.4f}')\n",
    "#     torch.save(model.state_dict(),'123.pkl')\n",
    "\n",
    "        \n",
    "\n",
    "\n"
   ]
  },
  {
   "cell_type": "code",
   "execution_count": null,
   "metadata": {},
   "outputs": [],
   "source": [
    "model = torch.load('bert_cotraining.pkl')\n",
    "model.eval()"
   ]
  },
  {
   "cell_type": "code",
   "execution_count": null,
   "metadata": {},
   "outputs": [],
   "source": [
    "# testset = NewsDataset(\"test\", tokenizer=tokenizer)\n",
    "# testloader = DataLoader(testset, batch_size=64, \n",
    "#                         collate_fn=create_mini_batch)\n",
    "# tokenizer = BertTokenizer.from_pretrained('./chinese_wwm_pytorch/')\n",
    "\n",
    "column_names = ['type','title','text']\n",
    "dftest = pd.read_csv('./data_after_sep/test.tsv',sep='\\t',names=column_names)\n",
    "texts = dftest['text'].tolist()\n",
    "input_dict = tokenizer.batch_encode_plus(texts, \n",
    "                                         add_special_tokens=True,\n",
    "                                         max_length=510,\n",
    "                                         return_special_tokens_masks=True,\n",
    "                                         pad_to_max_length=True,\n",
    "                                         return_tensors='pt')\n",
    "\n",
    "\n",
    "BATCH_SIZE = 64\n",
    "testset = TestDataset(input_dict)\n",
    "testloader = DataLoader(testset, batch_size=BATCH_SIZE)\n",
    "predictions = get_predictions(model, testloader)\n"
   ]
  },
  {
   "cell_type": "code",
   "execution_count": null,
   "metadata": {},
   "outputs": [],
   "source": [
    "pred = predictions.cpu().data.numpy()"
   ]
  },
  {
   "cell_type": "code",
   "execution_count": null,
   "metadata": {},
   "outputs": [],
   "source": [
    "pred = np.argmax(pred, axis=1)\n",
    "pred"
   ]
  },
  {
   "cell_type": "code",
   "execution_count": null,
   "metadata": {
    "scrolled": true
   },
   "outputs": [],
   "source": [
    "accuracy = (pred == testans).mean()\n",
    "print('Your test accuracy is %.6f' % (accuracy * 100))"
   ]
  },
  {
   "cell_type": "code",
   "execution_count": null,
   "metadata": {},
   "outputs": [],
   "source": [
    "from transformers import BertForPreTraining\n",
    "\n",
    "# tokenizer = BertTokenizer.from_pretrained('bert-base-chinese')\n",
    "# model = BertForPreTraining.from_pretrained('bert-base-chinese')\n",
    "tokenizer = BertTokenizer.from_pretrained('./chinese_wwm_pytorch/')\n",
    "model = BertForPreTraining.from_pretrained('./chinese_wwm_pytorch/')"
   ]
  },
  {
   "cell_type": "code",
   "execution_count": null,
   "metadata": {},
   "outputs": [],
   "source": [
    "column_names = ['type','title','text']\n",
    "df_unlabel = pd.read_csv('./udn_for_mct.tsv',sep='\\t',names=column_names)\n",
    "df_all = pd.read_csv('./all_after_mapping.tsv',sep='\\t',names=column_names)\n",
    "li = [df_unlabel,df_all]\n",
    "df_combine = pd.concat(li)"
   ]
  },
  {
   "cell_type": "code",
   "execution_count": null,
   "metadata": {},
   "outputs": [],
   "source": [
    "class TrainDataset(Dataset):\n",
    "    def __init__(self, input_dict, y ):\n",
    "        self.input_ids = input_dict['input_ids']\n",
    "        self.token_type_ids = input_dict['token_type_ids']\n",
    "        self.attention_mask = input_dict['attention_mask']\n",
    "        self.y = y\n",
    "    def __getitem__(self,idx):\n",
    "        inputid = self.input_ids[idx]\n",
    "        tokentype = self.token_type_ids[idx]\n",
    "        attentionmask = self.attention_mask[idx]\n",
    "        y = self.y[idx]\n",
    "\n",
    "        return inputid , tokentype , attentionmask, y\n",
    "    \n",
    "    def __len__(self):\n",
    "        return len(self.input_ids)\n",
    "    "
   ]
  },
  {
   "cell_type": "code",
   "execution_count": null,
   "metadata": {},
   "outputs": [],
   "source": [
    "class TestDataset(Dataset):\n",
    "    def __init__(self, input_dict):\n",
    "        self.input_ids = input_dict['input_ids']\n",
    "        self.token_type_ids = input_dict['token_type_ids']\n",
    "        self.attention_mask = input_dict['attention_mask']\n",
    "    def __getitem__(self,idx):\n",
    "        inputid = self.input_ids[idx]\n",
    "        tokentype = self.token_type_ids[idx]\n",
    "        attentionmask = self.attention_mask[idx]\n",
    "\n",
    "        return inputid , tokentype , attentionmask, \n",
    "    \n",
    "    def __len__(self):\n",
    "        return len(self.input_ids)"
   ]
  },
  {
   "cell_type": "code",
   "execution_count": null,
   "metadata": {},
   "outputs": [],
   "source": [
    "\n",
    "# BATCH_SIZE = 4\n",
    "# pretrainset = PretrainDataset(input_dict)\n",
    "# pretrainloader = DataLoader(pretrainset, batch_size=BATCH_SIZE)\n",
    "\n",
    "texts = df_all['text'].tolist()\n",
    "input_dict = tokenizer.batch_encode_plus(texts, \n",
    "                                         add_special_tokens=True,\n",
    "                                         max_length=510,\n",
    "                                         return_special_tokens_masks=True,\n",
    "                                         pad_to_max_length=True,\n",
    "                                         return_tensors='pt')\n",
    "y = df_all['type'].values\n",
    "BATCH_SIZE = 4\n",
    "trainset = TrainDataset(input_dict,y)\n",
    "trainloader = DataLoader(trainset, batch_size=BATCH_SIZE)"
   ]
  },
  {
   "cell_type": "code",
   "execution_count": null,
   "metadata": {},
   "outputs": [],
   "source": [
    "device = torch.device(\"cuda:0\" if torch.cuda.is_available() else \"cpu\")\n",
    "print(\"device:\", device)\n",
    "model = model.to(device)\n",
    "EPOCHS = 5  # 幸運數字\n",
    "for epoch in range(EPOCHS):\n",
    "    for data in pretrain_dataloader:   \n",
    "        tokens_tensors, segments_tensors, masks_tensors = [t.to(device) for t in data]\n",
    "        # forward pass\n",
    "        outputs = model(input_ids=tokens_tensors, \n",
    "                        token_type_ids=segments_tensors, \n",
    "                        attention_mask=masks_tensors, )\n",
    "#     torch.save(model, 'model_bert_pretrain_on_udn.pkl')\n",
    "    model.save_pretrained('./bert_wwm_pretrain_on_news')\n",
    "\n",
    "    print('epoch:', epoch+1)"
   ]
  },
  {
   "cell_type": "code",
   "execution_count": null,
   "metadata": {},
   "outputs": [],
   "source": [
    "def pick_high_confidence_data(result):\n",
    "    baseline = 0.85\n",
    "    print(result.shape)\n",
    "    count = 0\n",
    "    li = []\n",
    "    y = []\n",
    "    for i in range(result.shape[0]):\n",
    "        _res = result[i]\n",
    "#         if lstm max value's index equals to tfidf's\n",
    "        _val , _index = torch.max(_res, 0)\n",
    "        if _val.item()>=baseline:\n",
    "                li.append(i)\n",
    "                y.append(_index.item())\n",
    "    return np.array(li) , np.array(y)"
   ]
  },
  {
   "cell_type": "code",
   "execution_count": null,
   "metadata": {},
   "outputs": [],
   "source": [
    "from transformers import BertForSequenceClassification\n",
    "\n",
    "i = 0\n",
    "column_names = ['type','title','text']\n",
    "df_unlabel = pd.read_csv('./udn_for_mct.tsv',sep='\\t',names=column_names)\n",
    "df_all = pd.read_csv('./all_after_mapping.tsv',sep='\\t',names=column_names)\n",
    "li = [df_unlabel,df_all]\n",
    "df_combine = pd.concat(li)\n",
    "\n",
    "\n",
    "NUM_LABELS = 7\n",
    "\n",
    "tokenizer = BertTokenizer.from_pretrained('./chinese_wwm_pytorch/')\n",
    "model = BertForSequenceClassification.from_pretrained('./chinese_wwm_pytorch/',num_labels=NUM_LABELS)\n",
    "\n",
    "device = torch.device(\"cuda:0\" if torch.cuda.is_available() else \"cpu\")\n",
    "print(\"device:\", device)\n",
    "\n",
    "BATCH_SIZE = 4\n",
    "\n",
    "i = 0\n",
    "while(1):\n",
    "    if i==0:\n",
    "        traintexts = np.array(df_all['text'].tolist())\n",
    "        train_input_dict = tokenizer.batch_encode_plus(traintexts, \n",
    "                                         add_special_tokens=True,\n",
    "                                         max_length=510,\n",
    "                                         return_special_tokens_masks=True,\n",
    "                                         pad_to_max_length=True,\n",
    "                                         return_tensors='pt')\n",
    "        train_y = np.array(df_all['type'].values)\n",
    "\n",
    "        unlabeltexts = np.array(df_unlabel['text'].tolist())\n",
    "        unlabel_input_dict = tokenizer.batch_encode_plus(unlabeltexts, \n",
    "                                         add_special_tokens=True,\n",
    "                                         max_length=510,\n",
    "                                         return_special_tokens_masks=True,\n",
    "                                         pad_to_max_length=True,\n",
    "                                         return_tensors='pt')\n",
    "        i+=1\n",
    "    else:\n",
    "        train_input_dict = tokenizer.batch_encode_plus(traintexts, \n",
    "                                         add_special_tokens=True,\n",
    "                                         max_length=510,\n",
    "                                         return_special_tokens_masks=True,\n",
    "                                         pad_to_max_length=True,\n",
    "                                         return_tensors='pt')\n",
    "        unlabel_input_dict = tokenizer.batch_encode_plus(unlabeltexts, \n",
    "                                         add_special_tokens=True,\n",
    "                                         max_length=510,\n",
    "                                         return_special_tokens_masks=True,\n",
    "                                         pad_to_max_length=True,\n",
    "                                         return_tensors='pt')\n",
    "        \n",
    "        \n",
    "    trainset = TrainDataset(train_input_dict,train_y)\n",
    "    trainloader = DataLoader(trainset, batch_size=BATCH_SIZE)\n",
    "\n",
    "    model = model.to(device)\n",
    "    model.train()\n",
    "    optimizer = torch.optim.Adam(model.parameters(), lr=1e-5)\n",
    "\n",
    "    EPOCHS = 2  # 幸運數字\n",
    "    for epoch in range(EPOCHS):\n",
    "        step = 0\n",
    "        running_loss = 0.0\n",
    "        for data in trainloader:\n",
    "            tokens_tensors, segments_tensors, \\\n",
    "            masks_tensors, labels = [t.to(device) for t in data]\n",
    "            outputs = model(input_ids=tokens_tensors, \n",
    "                                token_type_ids=segments_tensors, \n",
    "                                attention_mask=masks_tensors, \n",
    "                                labels=labels)\n",
    "            optimizer.zero_grad()\n",
    "\n",
    "            loss = outputs[0]\n",
    "            loss.backward()\n",
    "            optimizer.step()\n",
    "\n",
    "            running_loss += loss.item()\n",
    "        torch.save(model, 'bert_cotraining.pkl')\n",
    "        print('[epoch %d] loss: %.3f' %(epoch + 1, running_loss))\n",
    "    \n",
    "    unlabelset = TestDataset(unlabel_input_dict)\n",
    "    unlabelloader = DataLoader(unlabelset, batch_size=32)\n",
    "    \n",
    "    ans_matrix = get_predictions(model, unlabelloader,False)\n",
    "    \n",
    "    idx , y = pick_high_confidence_data(ans_matrix)\n",
    "    \n",
    "    \n",
    "    \n",
    "\n",
    "    unlabel_be_chosen = np.take(unlabeltexts, idx, 0)\n",
    "    unlabeltexts = np.delete(unlabeltexts,idx,axis=0)\n",
    "    traintexts = np.concatenate((traintexts,unlabel_be_chosen))\n",
    "    train_y = np.concatenate((train_y,y))\n",
    "\n",
    "    torch.save(model, 'bert_cotraining.pkl')\n",
    "\n",
    "    \n",
    "    if(unlabeltexts.shape[0]<300):\n",
    "        break\n",
    "\n",
    "\n",
    "    \n",
    "    \n",
    "    \n",
    "    \n",
    "    \n",
    "    \n",
    "    \n",
    "\n",
    "    \n",
    "        \n",
    "        "
   ]
  },
  {
   "cell_type": "code",
   "execution_count": null,
   "metadata": {},
   "outputs": [],
   "source": [
    "print(ans_matrix.shape)"
   ]
  },
  {
   "cell_type": "code",
   "execution_count": null,
   "metadata": {},
   "outputs": [],
   "source": [
    "unlabel_input_dict['input_ids'].shape\n"
   ]
  },
  {
   "cell_type": "code",
   "execution_count": null,
   "metadata": {},
   "outputs": [],
   "source": []
  },
  {
   "cell_type": "code",
   "execution_count": null,
   "metadata": {},
   "outputs": [],
   "source": []
  }
 ],
 "metadata": {
  "kernelspec": {
   "display_name": "Python 3",
   "language": "python",
   "name": "python3"
  },
  "language_info": {
   "codemirror_mode": {
    "name": "ipython",
    "version": 3
   },
   "file_extension": ".py",
   "mimetype": "text/x-python",
   "name": "python",
   "nbconvert_exporter": "python",
   "pygments_lexer": "ipython3",
   "version": "3.6.9"
  }
 },
 "nbformat": 4,
 "nbformat_minor": 2
}
