{
 "cells": [
  {
   "cell_type": "code",
   "execution_count": null,
   "metadata": {},
   "outputs": [],
   "source": [
    "import torch \n",
    "import torch.nn as F\n",
    "import pandas as pd \n",
    "from torch import \n",
    "from gensim.models import Word2Vec\n",
    "\n",
    "MAX_SENT_LENGTH = 8\n",
    "MAX_SENTS = 64\n",
    "EMBEDDING_DIM = 300"
   ]
  },
  {
   "cell_type": "code",
   "execution_count": null,
   "metadata": {},
   "outputs": [],
   "source": [
    "class HAHNN(F.Module):\n",
    "    def __init__(self):\n",
    "        super(HAHNN,self).__init__()\n",
    "        self.filter_size = [3,4,5]\n",
    "        self.conv = F.ModuleList([\n",
    "                    F.Sequential(\n",
    "                        F.Conv1d(in_channels=300, \n",
    "                                 out_channels=64, \n",
    "                                 kernel_size=h),\n",
    "                        F.ReLU(),\n",
    "                        F.MaxPool1d(kernel_size=512-h+1))\n",
    "                    for h in self.filter_size\n",
    "                    ])\n",
    "    def attention_net(self, lstm_output, final_state):\n",
    "        hidden = final_state.view(-1, n_hidden * 2, 1)   # hidden : [batch_size, n_hidden * num_directions(=2), 1(=n_layer)]\n",
    "        attn_weights = torch.bmm(lstm_output, hidden).squeeze(2) # attn_weights : [batch_size, n_step]\n",
    "        soft_attn_weights = F.softmax(attn_weights, 1)\n",
    "        # [batch_size, n_hidden * num_directions(=2), n_step] * [batch_size, n_step, 1] = [batch_size, n_hidden * num_directions(=2), 1]\n",
    "        context = torch.bmm(lstm_output.transpose(1, 2), soft_attn_weights.unsqueeze(2)).squeeze(2)\n",
    "        return context, soft_attn_weights.data.numpy() # context : [batch_size, n_hidden * num_directions(=2)]\n",
    "\n",
    "    \n",
    "    def forward(self,x):\n",
    "        "
   ]
  }
 ],
 "metadata": {
  "kernelspec": {
   "display_name": "Python 3",
   "language": "python",
   "name": "python3"
  },
  "language_info": {
   "codemirror_mode": {
    "name": "ipython",
    "version": 3
   },
   "file_extension": ".py",
   "mimetype": "text/x-python",
   "name": "python",
   "nbconvert_exporter": "python",
   "pygments_lexer": "ipython3",
   "version": "3.6.9"
  }
 },
 "nbformat": 4,
 "nbformat_minor": 2
}
