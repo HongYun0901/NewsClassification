{
 "cells": [
  {
   "cell_type": "code",
   "execution_count": 3,
   "metadata": {},
   "outputs": [],
   "source": [
    "import pandas as pd\n",
    "import numpy as np\n",
    "import ast\n",
    "import re\n",
    "from zhon.hanzi import non_stops\n",
    "import os\n",
    "import pickle\n",
    "from opencc import OpenCC\n",
    "import torch\n",
    "import torch.nn.functional as F\n",
    "import pandas as pd\n",
    "from transformers import RobertaTokenizer , XLNetTokenizer\n",
    "from transformers import BertTokenizer , BertConfig , BertModel\n",
    "import numpy as np\n",
    "from torch.utils.data import Dataset\n",
    "from torch.utils.data import DataLoader\n",
    "from transformers import BertForSequenceClassification,BertForPreTraining\n",
    "from torch.autograd import Variable\n",
    "from torch import nn\n",
    "\n",
    "\n",
    "# get input news\n",
    "\n",
    "#先拿測資中的兩筆資料當input 正確錯誤各一筆\n",
    "str_correct = \"中華統一促進黨總裁「白狼」張安樂及其子張瑋，遭控收受政治獻金卻未按規定申報，還涉替張瑋成立的「華夏大地旅行社」逃漏稅，掏空兩千多萬元公司資產，兩人昨遭台北地檢署依違反政治獻金法、幫助逃漏稅及業務侵占等罪起訴。至於華夏有近千萬港幣資金來自境外，張家人卻交代不清，檢調懷疑有中資介入，將是接下來追查重點。除了張氏父子，張瑋妻子王姝茵、統促黨前任黨主席李新一、現任黨主席張馥堂及黨工張陳淑媜，在整個犯罪過程中皆扮演關鍵角色，一併遭起訴。檢調查出，張瑋經營的華夏大地旅行社專接中國旅行團客，不僅涉嫌驗資不實，張家人還將公司資產視為「家族禁臠」，擅自挪為私用，支付妻小貸款、卡費等生活費用。旅行社近千萬港幣資金 來自境外另，張安樂並非華夏員工，張瑋夫妻卻支薪給張安樂並投保勞健保，張家人並以華夏名義租用十輛小發財車供統促黨調度，花費四四七萬餘元，以此手法逃漏稅多達七十七萬餘元，統促黨也未將租車的經濟效益列入政治獻金帳冊。華夏於二○一三至二○一五年間，陸續收到英屬維京群島商「韜略公司Strategic Sports （BVI） LTD」近千萬港幣匯款，名義上是旅行團費，但錢進台灣後卻未如實記載在華夏會計報告，張家人對金錢來源、流向也多推稱「忘記了」。檢調懷疑有中資介入 積極追查中由於張瑋是韜略公司股東，對公司有實質影響力，檢調不排除有匯款來自中國，積極追查中。張安樂等多名統促黨成員昨因另涉違反集遊法而至北檢開庭，庭後竟企圖直闖檢察官辦公室索要起訴書，但遭法警攔阻。張安樂說，檢調辦他就是「雷聲大，雨點小」，抱怨之前遭檢調搜索，好像他犯了什麼滔天大罪，最後罪名都是羅織的。他反問說：「我跟兒子媳婦的錢，我們用來用去，這算挪用公款嗎？」又不像美國人會把家人的錢分得清清楚楚，連租車子給黨部用都違反政治獻金法，直呼「太扯了！」\"\n",
    "str_error = \"日本桌球天后福原愛3年前嫁給台灣桌球王子江宏傑，兩人婚後育有一子一女，生活幸福美滿。有日本媒體爆料，福原愛曾向友人抱怨過大姑江恆亘，不滿她常將夫妻倆的合照及私下相處情形公開，行徑猶如「怪獸大姑」。39歲的江恆亘因凍齡美貌登上批踢踢表特版爆紅，近日宣布在演藝圈出道。日本《週刊文春》報導，江恆亘個性強勢，生活全靠父母，甚至還因負債導致不能申辦信用卡，江宏傑要將姐姐介紹給福原愛前，也曾特別告誡她對於江恆亘說的話「絕對不能拒絕」。9月時，江宏傑在羽田機場被《週刊文春》記者詢問有關姐姐洩漏夫妻隱私的事，他否認因此感到困擾，回答「我覺得很有趣」，一旁的福原愛則表示：「沒有透過我們就說出去的事，嗯。」顯得有些欲言又止。福原愛友人透露，江恆亘受訪時曾向媒體表示「福原愛在家穿睡衣也很有明星光芒」，且大量曝光家族旅行、結婚時的照片及夫妻生活隱私，就連她與江宏傑結婚時被媒體形容是「格差婚」，江恆亘也在臉書寫下「愛情不是金錢可以計量」，種種行徑皆讓福原愛十分介懷。福原愛（右）及江宏傑結婚3年，育有一兒一女。（翻攝自江宏傑微博）江恆亘的友人也出面指證，自從江宏傑成為名人後，江恆亘便常常提到弟弟的事情，藉弟弟及福原愛的合照「蹭熱度」，指她個性難相處、有公主病、不爽就飆3字經、5字經，永遠都要當老大、愛欺負人。對於被形容像「怪獸大姑」，江恆亘透過經紀人以電子郵件回應《週刊文春》。「我很重視和小愛的緣分，我們就像姊妹一樣，看到可愛的東西一定會買給她。」其他部分則未多著墨。不過，江恆亘的心情明顯受到負面傳聞影響，日前在IG揚揚灑灑寫下千字文，感嘆自己的傻大姐個性，「那些你以為是朋友的，人家壓根都沒把你當真正的朋友」「更可悲的是，創造這些謊言的還有可能是你最親密的人」「算命的說，我還是要小心我身邊有小人，即使有些謠言是錯誤的，你也不需要去解釋」，最後標註「沒有發生什麼事」「請直接來問我本人比較快」，並強調「我不會受任何謠言言語所影響」。\"\n",
    "# #確保跟訓練時讀的type一樣\n",
    "# ex_correct = pd.Series([str_correct])\n",
    "# ex_error = pd.Series([str_error])\n",
    "# #轉成np\n",
    "# ex_correct = np.array(ex_correct.tolist())\n",
    "# ex_error = np.array(ex_error.tolist())\n",
    "# print(ex_correct.shape)\n",
    "# print(ex_error.shape)\n"
   ]
  },
  {
   "cell_type": "code",
   "execution_count": 6,
   "metadata": {},
   "outputs": [
    {
     "name": "stderr",
     "output_type": "stream",
     "text": [
      "Truncation was not explicitely activated but `max_length` is provided a specific value, please use `truncation=True` to explicitely truncate examples to max length. Defaulting to 'longest_first' truncation strategy. If you encode pairs of sequences (GLUE-style) with the tokenizer you can select this strategy more precisely by providing a specific strategy to `truncation`.\n"
     ]
    },
    {
     "name": "stdout",
     "output_type": "stream",
     "text": [
      "tensor([[-3.1418,  3.7421]], device='cuda:0')\n",
      "tensor([[0.0010, 0.9990]], device='cuda:0')\n"
     ]
    }
   ],
   "source": [
    "tokenizer = XLNetTokenizer.from_pretrained('./chinese_xlnet_mid_pytorch/')\n",
    "\n",
    "input_dict = tokenizer.encode_plus(str_correct, \n",
    "                                         add_special_tokens=True,\n",
    "                                         max_length=512,\n",
    "                                         return_special_tokens_mask=True,\n",
    "                                         pad_to_max_length=True,\n",
    "                                         return_tensors='pt')\n",
    "\n",
    "device = torch.device(\"cuda:0\" if torch.cuda.is_available() else \"cpu\")\n",
    "model = torch.load('xlnet_comp.pkl')\n",
    "model = model.to(device)\n",
    "model.eval()\n",
    "\n",
    "\n",
    "with torch.no_grad():\n",
    "    input_ids = input_dict['input_ids'].to(device)\n",
    "    token_type_ids = input_dict['token_type_ids'].to(device)\n",
    "    attention_mask = input_dict['attention_mask'].to(device)\n",
    "    outputs = model(input_ids=input_ids, \n",
    "                    token_type_ids=token_type_ids, \n",
    "                    attention_mask=attention_mask)\n",
    "    logits = outputs[0]\n",
    "    logits = torch.softmax(logits,dim=-1)\n",
    "    print(logits)\n",
    "    \n",
    "    \n",
    "    \n",
    "    \n"
   ]
  },
  {
   "cell_type": "code",
   "execution_count": null,
   "metadata": {},
   "outputs": [],
   "source": [
    "#test\n",
    "class TestDataset(Dataset):\n",
    "    def __init__(self, input_dict):\n",
    "        self.input_ids = input_dict['input_ids']\n",
    "        self.token_type_ids = input_dict['token_type_ids']\n",
    "        self.attention_mask = input_dict['attention_mask']\n",
    "       \n",
    "    def __getitem__(self,idx):\n",
    "        inputid = self.input_ids[idx]\n",
    "        tokentype = self.token_type_ids[idx]\n",
    "        attentionmask = self.attention_mask[idx]\n",
    "        return inputid , tokentype , attentionmask \n",
    "    \n",
    "    def __len__(self):\n",
    "        return len(self.input_ids)\n",
    "    \n",
    "testdataset = TestDataset(input_dict)\n",
    "testloader = DataLoader(testdataset, batch_size=BATCH_SIZE)"
   ]
  }
 ],
 "metadata": {
  "kernelspec": {
   "display_name": "Python 3",
   "language": "python",
   "name": "python3"
  },
  "language_info": {
   "codemirror_mode": {
    "name": "ipython",
    "version": 3
   },
   "file_extension": ".py",
   "mimetype": "text/x-python",
   "name": "python",
   "nbconvert_exporter": "python",
   "pygments_lexer": "ipython3",
   "version": "3.6.9"
  }
 },
 "nbformat": 4,
 "nbformat_minor": 2
}
